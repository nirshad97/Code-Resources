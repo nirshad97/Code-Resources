{
  "nbformat": 4,
  "nbformat_minor": 0,
  "metadata": {
    "colab": {
      "name": "Pipeline-in-scikit-learn.ipynb",
      "provenance": []
    },
    "kernelspec": {
      "name": "python3",
      "display_name": "Python 3"
    },
    "language_info": {
      "name": "python"
    }
  },
  "cells": [
    {
      "cell_type": "code",
      "metadata": {
        "id": "c-7B_H5amnDL"
      },
      "source": [
        "import numpy as np\n",
        "import pandas as pd\n",
        "import warnings \n",
        "warnings.filterwarnings('ignore')\n",
        "\n",
        "from sklearn.metrics import mean_squared_error\n",
        "\n",
        "from sklearn.compose import TransformedTargetRegressor\n",
        "from sklearn.pipeline import Pipeline\n",
        "from sklearn.base import BaseEstimator, TransformerMixin\n",
        "\n",
        "from sklearn.linear_model import LinearRegression"
      ],
      "execution_count": 1,
      "outputs": []
    },
    {
      "cell_type": "markdown",
      "metadata": {
        "id": "H2zCyt8Knb3Z"
      },
      "source": [
        "### Pipeline Experiment"
      ]
    },
    {
      "cell_type": "code",
      "metadata": {
        "colab": {
          "base_uri": "https://localhost:8080/",
          "height": 204
        },
        "id": "pjEHcQ9rna0Y",
        "outputId": "f78b48e7-eb25-40c3-8d2d-09a86741454b"
      },
      "source": [
        "# Create a dataframe\n",
        "\n",
        "df = pd.DataFrame(columns=['X1', 'X2', 'y'],\n",
        "                  data = [\n",
        "                          [1, 16, 9],\n",
        "                          [4, 36, 16],\n",
        "                          [1, 16, 9],\n",
        "                          [2, 9, 8],\n",
        "                          [3, 36, 15],\n",
        "                          [2, 49, 16],\n",
        "                          [4, 25, 14],\n",
        "                          [5, 36, 17] ])\n",
        "\n",
        "# Y = x1 + 2*SQRT(X2)\n",
        "df.head()"
      ],
      "execution_count": 13,
      "outputs": [
        {
          "output_type": "execute_result",
          "data": {
            "text/html": [
              "<div>\n",
              "<style scoped>\n",
              "    .dataframe tbody tr th:only-of-type {\n",
              "        vertical-align: middle;\n",
              "    }\n",
              "\n",
              "    .dataframe tbody tr th {\n",
              "        vertical-align: top;\n",
              "    }\n",
              "\n",
              "    .dataframe thead th {\n",
              "        text-align: right;\n",
              "    }\n",
              "</style>\n",
              "<table border=\"1\" class=\"dataframe\">\n",
              "  <thead>\n",
              "    <tr style=\"text-align: right;\">\n",
              "      <th></th>\n",
              "      <th>X1</th>\n",
              "      <th>X2</th>\n",
              "      <th>y</th>\n",
              "    </tr>\n",
              "  </thead>\n",
              "  <tbody>\n",
              "    <tr>\n",
              "      <th>0</th>\n",
              "      <td>1</td>\n",
              "      <td>16</td>\n",
              "      <td>9</td>\n",
              "    </tr>\n",
              "    <tr>\n",
              "      <th>1</th>\n",
              "      <td>4</td>\n",
              "      <td>36</td>\n",
              "      <td>16</td>\n",
              "    </tr>\n",
              "    <tr>\n",
              "      <th>2</th>\n",
              "      <td>1</td>\n",
              "      <td>16</td>\n",
              "      <td>9</td>\n",
              "    </tr>\n",
              "    <tr>\n",
              "      <th>3</th>\n",
              "      <td>2</td>\n",
              "      <td>9</td>\n",
              "      <td>8</td>\n",
              "    </tr>\n",
              "    <tr>\n",
              "      <th>4</th>\n",
              "      <td>3</td>\n",
              "      <td>36</td>\n",
              "      <td>15</td>\n",
              "    </tr>\n",
              "  </tbody>\n",
              "</table>\n",
              "</div>"
            ],
            "text/plain": [
              "   X1  X2   y\n",
              "0   1  16   9\n",
              "1   4  36  16\n",
              "2   1  16   9\n",
              "3   2   9   8\n",
              "4   3  36  15"
            ]
          },
          "metadata": {
            "tags": []
          },
          "execution_count": 13
        }
      ]
    },
    {
      "cell_type": "code",
      "metadata": {
        "id": "arMc0GnonYoz"
      },
      "source": [
        "train = df.iloc[:6]\n",
        "test = df.iloc[6:]\n",
        "\n",
        "# Splitting the dataframe\n",
        "train_X = train.drop('y', axis=1)\n",
        "train_y = train['y']\n",
        "\n",
        "test_X = test.drop('y', axis=1)\n",
        "test_y = test['y']"
      ],
      "execution_count": 14,
      "outputs": []
    },
    {
      "cell_type": "code",
      "metadata": {
        "colab": {
          "base_uri": "https://localhost:8080/"
        },
        "id": "bvBgFBg2onCh",
        "outputId": "e1c08000-1884-445a-aea6-bae5814cd1eb"
      },
      "source": [
        "# Lets see if the linear regresion is able to predict this properly\n",
        "m1 = LinearRegression()\n",
        "fit1= m1.fit(train_X, train_y)\n",
        "preds = fit1.predict(test_X)\n",
        "\n",
        "print(f\"{preds}\")\n",
        "print(f\"RMSE : {np.sqrt(mean_squared_error(test_y, preds))}\")"
      ],
      "execution_count": 15,
      "outputs": [
        {
          "output_type": "stream",
          "text": [
            "[13.72113586 16.93334467]\n",
            "RMSE : 0.20274138822160603\n"
          ],
          "name": "stdout"
        }
      ]
    },
    {
      "cell_type": "code",
      "metadata": {
        "colab": {
          "base_uri": "https://localhost:8080/"
        },
        "id": "outitTEUpS2a",
        "outputId": "f9bcfeb5-cec1-4f14-e061-3e000e08a157"
      },
      "source": [
        "train_X['X2'] = 2 * np.sqrt(train_X['X2'])\n",
        "test_X['X2'] = 2 * np.sqrt(test_X['X2'])\n",
        "print(test_X)\n",
        "\n",
        "#Building a model\n",
        "m2 = LinearRegression()\n",
        "fit2 = m2.fit(train_X, train_y)\n",
        "preds = fit2.predict(test_X)\n",
        "\n",
        "#Evaluate\n",
        "print(f\"{preds}\")\n",
        "print(f\"RMSE : {np.sqrt(mean_squared_error(test_y, preds))}\")"
      ],
      "execution_count": 16,
      "outputs": [
        {
          "output_type": "stream",
          "text": [
            "   X1    X2\n",
            "6   4  10.0\n",
            "7   5  12.0\n",
            "[14. 17.]\n",
            "RMSE : 1.2560739669470201e-15\n"
          ],
          "name": "stdout"
        }
      ]
    },
    {
      "cell_type": "code",
      "metadata": {
        "id": "vXjiuhHWpnxO"
      },
      "source": [
        "# Let's recreate the data and do the above using a transformer\n",
        "train = df.iloc[:6]\n",
        "test = df.iloc[6:]\n",
        "\n",
        "# Splitting the dataframe\n",
        "train_X = train.drop('y', axis=1)\n",
        "train_y = train['y']\n",
        "\n",
        "test_X = test.drop('y', axis=1)\n",
        "test_y = test['y']"
      ],
      "execution_count": 17,
      "outputs": []
    },
    {
      "cell_type": "code",
      "metadata": {
        "colab": {
          "base_uri": "https://localhost:8080/"
        },
        "id": "0Dflnig01VMr",
        "outputId": "6e8198d7-9a29-41ef-baf3-4358da98b876"
      },
      "source": [
        "# Writing a simple pipeline\n",
        "pipeline = Pipeline(steps=[('linearModel', LinearRegression())])\n",
        "pipeline.fit(train_X, train_y)\n",
        "preds = pipeline.predict(test_X)\n",
        "\n",
        "#Evaluate\n",
        "print(f\"{preds}\")\n",
        "print(f\"RMSE : {np.sqrt(mean_squared_error(test_y, preds))}\")"
      ],
      "execution_count": 18,
      "outputs": [
        {
          "output_type": "stream",
          "text": [
            "[13.72113586 16.93334467]\n",
            "RMSE : 0.20274138822160603\n"
          ],
          "name": "stdout"
        }
      ]
    },
    {
      "cell_type": "code",
      "metadata": {
        "id": "mzH1XptQ2Xjc"
      },
      "source": [
        "# When we are writing a tranformer, it should have 3 methods\n",
        "# the init, fit and transform\n",
        "\n",
        "class ExperimentalTransformer(BaseEstimator, TransformerMixin):\n",
        "\n",
        "  def __init__(self):\n",
        "    print(\"Initialization was done\")\n",
        "\n",
        "  def fit(self, X, y=None):\n",
        "    print(\"Parameters Learned\")\n",
        "    return self\n",
        "\n",
        "  def transform(self, X, y= None):\n",
        "    X_ = X.copy() # Avoids making changes to the original dataset\n",
        "    X_['X2'] = 2 * np.sqrt(X_['X2'])\n",
        "    print(\"Transformation Done\")\n",
        "    return X_"
      ],
      "execution_count": 19,
      "outputs": []
    },
    {
      "cell_type": "markdown",
      "metadata": {
        "id": "PvXuU78M40le"
      },
      "source": [
        "The drawback of the above transformer is that, the column `X2` has been hard coded into the code. It is not a good practice. Therefore, let's create a transformer that would handle this."
      ]
    },
    {
      "cell_type": "code",
      "metadata": {
        "colab": {
          "base_uri": "https://localhost:8080/"
        },
        "id": "68ecXDCK2AoZ",
        "outputId": "dd194176-e396-4a55-cd9f-d0114c3b0f28"
      },
      "source": [
        "pipeline2 = Pipeline(steps=[\n",
        "                            ('experimentalTransformer', ExperimentalTransformer()), # Thid will trigget init\n",
        "                            ('linearModel', LinearRegression())\n",
        "])\n",
        "\n",
        "pipeline2.fit(train_X, train_y) # When fit is called, both fit and transform are called.\n",
        "preds2 = pipeline2.predict(test_X)\n",
        "\n",
        "#Evaluate\n",
        "print(f\"{preds2}\")\n",
        "print(f\"RMSE : {np.sqrt(mean_squared_error(test_y, preds2))}\")"
      ],
      "execution_count": 21,
      "outputs": [
        {
          "output_type": "stream",
          "text": [
            "Initialization was done\n",
            "Parameters Learned\n",
            "Transformation Done\n",
            "Transformation Done\n",
            "[14. 17.]\n",
            "RMSE : 1.2560739669470201e-15\n"
          ],
          "name": "stdout"
        }
      ]
    },
    {
      "cell_type": "code",
      "metadata": {
        "id": "3BUtciCw4G0V"
      },
      "source": [
        "class ExperimentalTransformer2(BaseEstimator, TransformerMixin):\n",
        "\n",
        "  def __init__(self, feature_name, additional_param=\"Default Value\"):\n",
        "    print(\"Object initialized\")\n",
        "    self.feature_name = feature_name\n",
        "    self.additional_param = additional_param\n",
        "\n",
        "  def fit(self, X, y = None):\n",
        "    print(\"Parameters Learned\")\n",
        "    print(f\"Additional params: {self.additional_param}\")\n",
        "    return self\n",
        "\n",
        "  def transform(self, X, y= None):\n",
        "    X_ = X.copy() # Avoids making changes to the original dataset\n",
        "    X_[self.feature_name] = 2 * np.sqrt(X_[self.feature_name])\n",
        "    print(\"Transformation Done\")\n",
        "    return X_"
      ],
      "execution_count": 22,
      "outputs": []
    },
    {
      "cell_type": "code",
      "metadata": {
        "colab": {
          "base_uri": "https://localhost:8080/"
        },
        "id": "cda7rc_l6T0_",
        "outputId": "23d88f69-215e-40a2-b235-deb1eceedae1"
      },
      "source": [
        "pipeline3 = Pipeline(steps=[('experimentalTransformer2', ExperimentalTransformer2('X2')),\n",
        "                            ('linearModel', LinearRegression())])\n",
        "\n",
        "pipeline3.fit(train_X, train_y)\n",
        "preds3 = pipeline3.predict(test_X)\n",
        "\n",
        "#Evaluate\n",
        "print(f\"{preds3}\")\n",
        "print(f\"RMSE : {np.sqrt(mean_squared_error(test_y, preds3))}\")"
      ],
      "execution_count": 24,
      "outputs": [
        {
          "output_type": "stream",
          "text": [
            "Object initialized\n",
            "Parameters Learned\n",
            "Additional params: Default Value\n",
            "Transformation Done\n",
            "Transformation Done\n",
            "[14. 17.]\n",
            "RMSE : 1.2560739669470201e-15\n"
          ],
          "name": "stdout"
        }
      ]
    },
    {
      "cell_type": "markdown",
      "metadata": {
        "id": "S7aqMKQi7Bz0"
      },
      "source": [
        "So far we have transformed the input features, now let's see how it is done for target features"
      ]
    },
    {
      "cell_type": "code",
      "metadata": {
        "colab": {
          "base_uri": "https://localhost:8080/",
          "height": 204
        },
        "id": "HflEugef6m6C",
        "outputId": "639acb61-1f59-4251-aed1-1cf9664e5d1c"
      },
      "source": [
        "# Create a dataframe\n",
        "\n",
        "df = pd.DataFrame(columns=['X1', 'X2', 'y'],\n",
        "                  data = [\n",
        "                          [1, 16, 81],\n",
        "                          [4, 36, 256],\n",
        "                          [1, 16, 81],\n",
        "                          [2, 9, 64],\n",
        "                          [3, 36, 225],\n",
        "                          [2, 49, 256],\n",
        "                          [4, 25, 196],\n",
        "                          [5, 36, 289] ])\n",
        "\n",
        "# Y = x1 + 2*SQRT(X2)\n",
        "df.head()"
      ],
      "execution_count": 25,
      "outputs": [
        {
          "output_type": "execute_result",
          "data": {
            "text/html": [
              "<div>\n",
              "<style scoped>\n",
              "    .dataframe tbody tr th:only-of-type {\n",
              "        vertical-align: middle;\n",
              "    }\n",
              "\n",
              "    .dataframe tbody tr th {\n",
              "        vertical-align: top;\n",
              "    }\n",
              "\n",
              "    .dataframe thead th {\n",
              "        text-align: right;\n",
              "    }\n",
              "</style>\n",
              "<table border=\"1\" class=\"dataframe\">\n",
              "  <thead>\n",
              "    <tr style=\"text-align: right;\">\n",
              "      <th></th>\n",
              "      <th>X1</th>\n",
              "      <th>X2</th>\n",
              "      <th>y</th>\n",
              "    </tr>\n",
              "  </thead>\n",
              "  <tbody>\n",
              "    <tr>\n",
              "      <th>0</th>\n",
              "      <td>1</td>\n",
              "      <td>16</td>\n",
              "      <td>81</td>\n",
              "    </tr>\n",
              "    <tr>\n",
              "      <th>1</th>\n",
              "      <td>4</td>\n",
              "      <td>36</td>\n",
              "      <td>256</td>\n",
              "    </tr>\n",
              "    <tr>\n",
              "      <th>2</th>\n",
              "      <td>1</td>\n",
              "      <td>16</td>\n",
              "      <td>81</td>\n",
              "    </tr>\n",
              "    <tr>\n",
              "      <th>3</th>\n",
              "      <td>2</td>\n",
              "      <td>9</td>\n",
              "      <td>64</td>\n",
              "    </tr>\n",
              "    <tr>\n",
              "      <th>4</th>\n",
              "      <td>3</td>\n",
              "      <td>36</td>\n",
              "      <td>225</td>\n",
              "    </tr>\n",
              "  </tbody>\n",
              "</table>\n",
              "</div>"
            ],
            "text/plain": [
              "   X1  X2    y\n",
              "0   1  16   81\n",
              "1   4  36  256\n",
              "2   1  16   81\n",
              "3   2   9   64\n",
              "4   3  36  225"
            ]
          },
          "metadata": {
            "tags": []
          },
          "execution_count": 25
        }
      ]
    },
    {
      "cell_type": "code",
      "metadata": {
        "colab": {
          "base_uri": "https://localhost:8080/"
        },
        "id": "IXBHBFXi71zf",
        "outputId": "09ab687a-a877-4f4c-ac32-3101de07ed92"
      },
      "source": [
        "train = df.iloc[:6]\n",
        "test = df.iloc[6:]\n",
        "\n",
        "# Splitting the dataframe\n",
        "train_X = train.drop('y', axis=1)\n",
        "train_y = train['y']\n",
        "\n",
        "test_X = test.drop('y', axis=1)\n",
        "test_y = test['y']\n",
        "\n",
        "pipeline3 = Pipeline(steps=[('experimentalTransformer2', ExperimentalTransformer2('X2')),\n",
        "                            ('linearModel', LinearRegression())])\n",
        "\n",
        "pipeline3.fit(train_X, train_y)\n",
        "preds3 = pipeline3.predict(test_X)\n",
        "\n",
        "#Evaluate\n",
        "print(f\"{preds3}\")\n",
        "print(f\"RMSE : {np.sqrt(mean_squared_error(test_y, preds3))}\")\n",
        "\n",
        "# The reason we don't get a good prediction is because, \n",
        "# This is not a linear relationship"
      ],
      "execution_count": 27,
      "outputs": [
        {
          "output_type": "stream",
          "text": [
            "Object initialized\n",
            "Parameters Learned\n",
            "Additional params: Default Value\n",
            "Transformation Done\n",
            "Transformation Done\n",
            "[207.42690058 280.94152047]\n",
            "RMSE : 9.887192456534327\n"
          ],
          "name": "stdout"
        }
      ]
    },
    {
      "cell_type": "code",
      "metadata": {
        "id": "nO-VqS6S8AKJ"
      },
      "source": [
        "# We'll now write a custom target transformer\n",
        "# This needs 2 two functions, one to transform and another to inverse-transform\n",
        "\n",
        "def target_transform(target):\n",
        "  target_ = target.copy()\n",
        "  target_ = np.sqrt(target_)\n",
        "  return target_\n",
        "\n",
        "def inverse_target_transform(target):\n",
        "  target_ = target.copy()\n",
        "  target_ = target_ ** 2\n",
        "  return target_\n",
        "\n",
        "# The purpose of this is to make the y label into a linear form\n",
        "# Then make the prediction\n",
        "# Then do the inverse to match the actual characteristics "
      ],
      "execution_count": 28,
      "outputs": []
    },
    {
      "cell_type": "code",
      "metadata": {
        "colab": {
          "base_uri": "https://localhost:8080/"
        },
        "id": "EBmzFfH88wL4",
        "outputId": "bd8cdcf1-e8fe-4f1e-98b0-cd5e8d04f928"
      },
      "source": [
        "pipeline4 = Pipeline(steps=[\n",
        "                              ('experimentalTransformer2', ExperimentalTransformer2('X2')),\n",
        "                              ('linearModel', LinearRegression())\n",
        "])\n",
        "# The pipeline remains the same cause we doing the same thing for the input features\n",
        "\n",
        "# Create a TargetTransformer\n",
        "model = TransformedTargetRegressor(regressor=pipeline4,\n",
        "                                   func=target_transform,\n",
        "                                   inverse_func=inverse_target_transform)\n",
        "model.fit(train_X, train_y)\n",
        "preds4 = model.predict(test_X)\n",
        "#Evaluate\n",
        "print(f\"{preds4}\")\n",
        "print(f\"RMSE : {np.sqrt(mean_squared_error(test_y, preds4))}\")"
      ],
      "execution_count": 32,
      "outputs": [
        {
          "output_type": "stream",
          "text": [
            "Object initialized\n",
            "Object initialized\n",
            "Parameters Learned\n",
            "Additional params: Default Value\n",
            "Transformation Done\n",
            "Transformation Done\n",
            "[196. 289.]\n",
            "RMSE : 4.0194366942304644e-14\n"
          ],
          "name": "stdout"
        }
      ]
    },
    {
      "cell_type": "markdown",
      "metadata": {
        "id": "KgKg-w0c_Fmr"
      },
      "source": [
        "Instead writing our own transformer and inverse transformer functions. We can simply create a class"
      ]
    },
    {
      "cell_type": "code",
      "metadata": {
        "id": "H91TGYNz_EwG"
      },
      "source": [
        "class CustomTargetTransformer(BaseEstimator, TransformerMixin):\n",
        "  \n",
        "  def fit(self, target):\n",
        "    return self\n",
        "\n",
        "  def transform(sef, target): # These names cannot be changed\n",
        "    print(\"Target transformer called\")\n",
        "    target_ = target.copy()\n",
        "    target_ = np.sqrt(target_)\n",
        "    return target_\n",
        "\n",
        "  def inverse_transform(self, target):  # This names cannot be changed\n",
        "    print(\"Inverse func called\")\n",
        "    target_ = target.copy()\n",
        "    target_ = target_ ** 2\n",
        "    return target_"
      ],
      "execution_count": 38,
      "outputs": []
    },
    {
      "cell_type": "code",
      "metadata": {
        "colab": {
          "base_uri": "https://localhost:8080/"
        },
        "id": "EQ7yld_v9__J",
        "outputId": "2c7eefba-d3b4-415f-a702-5925f785b53e"
      },
      "source": [
        "pipeline5 = Pipeline(steps=[\n",
        "                              ('experimentalTransformer2', ExperimentalTransformer2('X2')),\n",
        "                              ('linearModel', LinearRegression())\n",
        "])\n",
        "\n",
        "model = TransformedTargetRegressor(regressor=pipeline5,\n",
        "                                   transformer=CustomTargetTransformer(),\n",
        "                                   check_inverse=False)  # Avoid too many calls\n",
        "model.fit(train_X, train_y)\n",
        "preds5 = model.predict(test_X)\n",
        "#Evaluate\n",
        "print(f\"{preds5}\")\n",
        "print(f\"RMSE : {np.sqrt(mean_squared_error(test_y, preds5))}\")"
      ],
      "execution_count": 39,
      "outputs": [
        {
          "output_type": "stream",
          "text": [
            "Object initialized\n",
            "Target transformer called\n",
            "Object initialized\n",
            "Parameters Learned\n",
            "Additional params: Default Value\n",
            "Transformation Done\n",
            "Transformation Done\n",
            "Inverse func called\n",
            "[196. 289.]\n",
            "RMSE : 4.0194366942304644e-14\n"
          ],
          "name": "stdout"
        }
      ]
    },
    {
      "cell_type": "markdown",
      "metadata": {
        "id": "HLoZtDrXAqNT"
      },
      "source": [
        "Few best practices"
      ]
    },
    {
      "cell_type": "code",
      "metadata": {
        "colab": {
          "base_uri": "https://localhost:8080/"
        },
        "id": "X2I0VUnoATD-",
        "outputId": "3e99de8e-e82b-4e27-ef66-0ab29c098a32"
      },
      "source": [
        "# Since we inherited from the BaseEstimator, we can get_params() and set_params()\n",
        "model.get_params()"
      ],
      "execution_count": 40,
      "outputs": [
        {
          "output_type": "execute_result",
          "data": {
            "text/plain": [
              "{'check_inverse': False,\n",
              " 'func': None,\n",
              " 'inverse_func': None,\n",
              " 'regressor': Pipeline(memory=None,\n",
              "          steps=[('experimentalTransformer2',\n",
              "                  ExperimentalTransformer2(additional_param='Default Value',\n",
              "                                           feature_name='X2')),\n",
              "                 ('linearModel',\n",
              "                  LinearRegression(copy_X=True, fit_intercept=True, n_jobs=None,\n",
              "                                   normalize=False))],\n",
              "          verbose=False),\n",
              " 'regressor__experimentalTransformer2': ExperimentalTransformer2(additional_param='Default Value', feature_name='X2'),\n",
              " 'regressor__experimentalTransformer2__additional_param': 'Default Value',\n",
              " 'regressor__experimentalTransformer2__feature_name': 'X2',\n",
              " 'regressor__linearModel': LinearRegression(copy_X=True, fit_intercept=True, n_jobs=None, normalize=False),\n",
              " 'regressor__linearModel__copy_X': True,\n",
              " 'regressor__linearModel__fit_intercept': True,\n",
              " 'regressor__linearModel__n_jobs': None,\n",
              " 'regressor__linearModel__normalize': False,\n",
              " 'regressor__memory': None,\n",
              " 'regressor__steps': [('experimentalTransformer2',\n",
              "   ExperimentalTransformer2(additional_param='Default Value', feature_name='X2')),\n",
              "  ('linearModel',\n",
              "   LinearRegression(copy_X=True, fit_intercept=True, n_jobs=None, normalize=False))],\n",
              " 'regressor__verbose': False,\n",
              " 'transformer': CustomTargetTransformer()}"
            ]
          },
          "metadata": {
            "tags": []
          },
          "execution_count": 40
        }
      ]
    },
    {
      "cell_type": "code",
      "metadata": {
        "id": "rBVeQxRRA23R"
      },
      "source": [
        ""
      ],
      "execution_count": null,
      "outputs": []
    }
  ]
}
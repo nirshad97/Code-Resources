{
  "nbformat": 4,
  "nbformat_minor": 0,
  "metadata": {
    "colab": {
      "name": "class-methods-and-static-methods.ipynb",
      "provenance": []
    },
    "kernelspec": {
      "name": "python3",
      "display_name": "Python 3"
    },
    "language_info": {
      "name": "python"
    }
  },
  "cells": [
    {
      "cell_type": "code",
      "metadata": {
        "id": "ZTxHnmh_teyk"
      },
      "source": [
        "from datetime import datetime, timedelta\n",
        "\n",
        "class Applicant:\n",
        "\n",
        "  applicants = []\n",
        "\n",
        "  def __init__(self, name):\n",
        "    self.name = name\n",
        "    self.applicants.append(self) \n",
        "    # For every applicant object we create,\n",
        "    # It will get appended to the class variable applicants\n",
        "\n",
        "  def get_name(self): # This is an object instance method\n",
        "    return self.name\n",
        "    # We have to have object to access this method\n",
        "\n",
        "  @classmethod\n",
        "  def numOfApplications(cls):\n",
        "    return len(cls.applicants)\n",
        "\n",
        "  # These methods can we be called without having to instantiate an object\n",
        "  @staticmethod\n",
        "  def closingDate():\n",
        "    # We can  call self or cls inside this\n",
        "    current_date = datetime.now()\n",
        "    closing_date = current_date + timedelta(days = 120)\n",
        "    return closing_date.strftime(\"%Y-%m-%d\")\n",
        "  "
      ],
      "execution_count": 70,
      "outputs": []
    },
    {
      "cell_type": "code",
      "metadata": {
        "colab": {
          "base_uri": "https://localhost:8080/"
        },
        "id": "vfsKYyiytd8O",
        "outputId": "9bad4286-27eb-4b54-a2d2-792a728719f7"
      },
      "source": [
        "john = Applicant(\"John\")\n",
        "\n",
        "print(f\"This is one way: {john.applicants}\") # This outputs the object instance as a list\n",
        "\n",
        "print(f\"This is another way: {Applicant.applicants}\") # This is another to get the class variable"
      ],
      "execution_count": 71,
      "outputs": [
        {
          "output_type": "stream",
          "text": [
            "This is one way: [<__main__.Applicant object at 0x7fa3b064dc10>]\n",
            "This is another way: [<__main__.Applicant object at 0x7fa3b064dc10>]\n"
          ],
          "name": "stdout"
        }
      ]
    },
    {
      "cell_type": "code",
      "metadata": {
        "colab": {
          "base_uri": "https://localhost:8080/",
          "height": 35
        },
        "id": "D4Nltyl3u_eq",
        "outputId": "8741323a-6b7f-4cab-e0a9-c8cca836aec4"
      },
      "source": [
        "john.get_name() # To access this function we should create an object first"
      ],
      "execution_count": 72,
      "outputs": [
        {
          "output_type": "execute_result",
          "data": {
            "application/vnd.google.colaboratory.intrinsic+json": {
              "type": "string"
            },
            "text/plain": [
              "'John'"
            ]
          },
          "metadata": {
            "tags": []
          },
          "execution_count": 72
        }
      ]
    },
    {
      "cell_type": "code",
      "metadata": {
        "colab": {
          "base_uri": "https://localhost:8080/"
        },
        "id": "-_5sn4eBwM70",
        "outputId": "01ec5837-fb38-4670-f2f9-f296847b4054"
      },
      "source": [
        "mary = Applicant(\"Mary\")\n",
        "Applicant.numOfApplications() # Returns number of applicant objects available\n",
        "# john.numOfApplications() # The same results"
      ],
      "execution_count": 73,
      "outputs": [
        {
          "output_type": "execute_result",
          "data": {
            "text/plain": [
              "2"
            ]
          },
          "metadata": {
            "tags": []
          },
          "execution_count": 73
        }
      ]
    },
    {
      "cell_type": "code",
      "metadata": {
        "colab": {
          "base_uri": "https://localhost:8080/",
          "height": 35
        },
        "id": "S4ft6j4GwSjA",
        "outputId": "2f5a8e5d-1bfe-4c98-db9a-a140b125fa19"
      },
      "source": [
        "Applicant.closingDate()"
      ],
      "execution_count": 74,
      "outputs": [
        {
          "output_type": "execute_result",
          "data": {
            "application/vnd.google.colaboratory.intrinsic+json": {
              "type": "string"
            },
            "text/plain": [
              "'2021-10-12'"
            ]
          },
          "metadata": {
            "tags": []
          },
          "execution_count": 74
        }
      ]
    },
    {
      "cell_type": "code",
      "metadata": {
        "id": "OEt5uIuG0nYh"
      },
      "source": [
        ""
      ],
      "execution_count": null,
      "outputs": []
    }
  ]
}